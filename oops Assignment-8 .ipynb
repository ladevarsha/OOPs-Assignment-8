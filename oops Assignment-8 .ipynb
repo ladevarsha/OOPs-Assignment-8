{
 "cells": [
  {
   "cell_type": "code",
   "execution_count": null,
   "id": "a29343d1-ff23-4618-8c6b-16c8ede2650e",
   "metadata": {},
   "outputs": [],
   "source": [
    "1.Explain class and object with respect to object-oriented programming.Give a suitable example.\n",
    "Ans -    \n",
    "      Class defines a blueprint for an object.\n",
    "       It is a template or a blueprint that defines the variables and methods common to all objects of a certain kind.\n",
    "        \n",
    "        Object is instance of a class.\n",
    "            It has both state and behaviour.\n",
    "            \n",
    "    For example-\n",
    "                   A class 'car\".'car'class can have attributes such as 'make','model','year',  and 'speed'.\n",
    "                    methods such as 'start()','accelerate()',and 'stop()'\n",
    "            \n",
    "            An object of'car'class might be a specific car such as a 2020 Toyoto Corolla.\n",
    "            state of this object is 'make=Toyota','model=Corolla' , 'year=2020', and 'speed=0'."
   ]
  },
  {
   "cell_type": "code",
   "execution_count": null,
   "id": "c2242308-c09c-48cf-8d63-3d485d297319",
   "metadata": {},
   "outputs": [],
   "source": [
    "2.Name the four pillars of OOPs.\n",
    "Ans-   \n",
    "       1.Abstraction\n",
    "       2.Encapsulation\n",
    "        3.Inheritance\n",
    "        4.Polymorphism"
   ]
  },
  {
   "cell_type": "code",
   "execution_count": null,
   "id": "ef90f77c-df51-4603-88a6-1950e9152cd4",
   "metadata": {},
   "outputs": [],
   "source": [
    "3.Explain why the _init_() function is used.Give a suitable example.\n",
    "Ans -\n",
    "        It is a method that automatically called when an object of a class is created.\n",
    "        This method is used ti initialize the attributes of the class and set their default values.\n",
    "        \n",
    "        self parameter is a reference to the instance of the object being created.\n",
    "        \n",
    "          for example-   class person:\n",
    "                                   def _init_(self, name, age):\n",
    "                                        self.name = name\n",
    "                                        self.age = age\n",
    "                                \n",
    "                                p1 = person(\"John\", 30)\n",
    "                                print(p1.name) #output \"john\"\n",
    "                                print(p1.age)  #output 30"
   ]
  },
  {
   "cell_type": "code",
   "execution_count": null,
   "id": "13807073-42c1-495e-a608-f2c69681c0fd",
   "metadata": {},
   "outputs": [],
   "source": [
    "4.Why self is used in OOPs?\n",
    "Ans -\n",
    "        In OOP, the'self'keyword is used to refer to the instance of an object.\n",
    "        It is used to access the attributes and methods of the class from within the class definition.\n",
    "        \n",
    "        The 'self'parameter is a reference to the instance of the object and access the attributes and methods of the class.\n",
    "        itis similar to'this'keyword in programming languages."
   ]
  },
  {
   "cell_type": "markdown",
   "id": "611d18e5-932c-47c7-b38a-31b17cb8eaae",
   "metadata": {
    "tags": []
   },
   "source": [
    "5.What is inheritance? Give an example for each type of inheritance.\n",
    "Ans-\n",
    "     Inheritance is a mechanism in object-oriented programming(OOP)that allows creating a new class(child class) based on an existing class(parent class).\n",
    "     Inheritance provides a way to reuse code and allows creating new classes that are related to existing classes.\n",
    "     This makes easier maintain and extend the code and reduces the amount of redundant code.\n",
    "     \n",
    "     Their are 5 types of inheritance\n",
    "     \n",
    "        1.Single inheritance--> A child class inherits properties and                                    methods from a single parent class.\n",
    "        \n",
    "        2.multi-level inheritance--> A child class inherits from a                                            parent class, and the parent class                                      inherits from a grandparent class.\n",
    "        \n",
    "        3.Multiple inheritance--> A child class inherits properties and                                   methods from multiple parent classes.\n",
    "        \n",
    "        4.Hierarchical inheritance--> Multiple child classes inherits                                         from a single parent class.\n",
    "        \n",
    "        5.Hybrid inheritance--> It is a combination of multiple                                         inheritance and other inheritance types.\n",
    "                                child class inherits properties and    \n",
    "                                methods from multiple parent classes and                                 also from intermediate classes."
   ]
  }
 ],
 "metadata": {
  "kernelspec": {
   "display_name": "Python 3 (ipykernel)",
   "language": "python",
   "name": "python3"
  },
  "language_info": {
   "codemirror_mode": {
    "name": "ipython",
    "version": 3
   },
   "file_extension": ".py",
   "mimetype": "text/x-python",
   "name": "python",
   "nbconvert_exporter": "python",
   "pygments_lexer": "ipython3",
   "version": "3.10.8"
  }
 },
 "nbformat": 4,
 "nbformat_minor": 5
}
